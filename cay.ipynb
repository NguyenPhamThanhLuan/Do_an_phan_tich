{
 "cells": [
  {
   "cell_type": "code",
   "execution_count": 7,
   "id": "36f86003",
   "metadata": {},
   "outputs": [],
   "source": [
    "# Import các thư viện cần thiết\n",
    "\n",
    "import time\n",
    "from sklearn.tree import DecisionTreeClassifier\n",
    "from sklearn.metrics import accuracy_score, precision_score, recall_score, f1_score, roc_auc_score,confusion_matrix,classification_report\n",
    "from sklearn.model_selection import train_test_split\n",
    "from sklearn.preprocessing import LabelEncoder\n",
    "import pandas as pd"
   ]
  },
  {
   "cell_type": "code",
   "execution_count": 8,
   "id": "51a25911",
   "metadata": {},
   "outputs": [],
   "source": [
    "df = pd.read_excel('employ_clean.xlsx')"
   ]
  },
  {
   "cell_type": "code",
   "execution_count": 9,
   "id": "4f512c40",
   "metadata": {},
   "outputs": [
    {
     "name": "stderr",
     "output_type": "stream",
     "text": [
      "C:\\Users\\luan0\\AppData\\Local\\Temp\\ipykernel_11688\\1398766709.py:2: UserWarning: Could not infer format, so each element will be parsed individually, falling back to `dateutil`. To ensure parsing is consistent and as-expected, please specify a format.\n",
      "  df['ExitDate'] = pd.to_datetime(df['ExitDate'], errors='coerce')\n"
     ]
    }
   ],
   "source": [
    "\n",
    "df['StartDate'] = pd.to_datetime(df['StartDate'], errors='coerce')\n",
    "df['ExitDate'] = pd.to_datetime(df['ExitDate'], errors='coerce')\n",
    "\n",
    "# Tính số năm làm việc (Work Duration)\n",
    "df['Year_work'] = (df['ExitDate'].fillna(pd.to_datetime('today')) - df['StartDate']).dt.days / 365.25\n",
    "\n",
    "# Mã hóa các cột phân loại\n",
    "label_encoder = LabelEncoder()\n",
    "df['IsEmployeeLeft'] = label_encoder.fit_transform(df['IsEmployeeLeft'])\n",
    "df['GenderCode'] = label_encoder.fit_transform(df['GenderCode'])\n",
    "\n",
    "# One-Hot Encoding cho cột 'Performance Score' và 'JobFunctionDescription'\n",
    "df = pd.get_dummies(df, columns=['Performance Score','JobFunctionDescription'], drop_first=True)\n",
    "\n",
    "# Chọn đặc trưng và mục tiêu\n",
    "X = df[['Age', 'GenderCode', 'Year_work', 'Current Employee Rating'] + [col for col in df.columns if 'Performance Score' in col or 'JobFunctionDescription' in col]]\n",
    "y = df['IsEmployeeLeft']\n",
    "\n",
    "# Chia dữ liệu thành tập huấn luyện và tập kiểm tra\n",
    "X_train, X_test, y_train, y_test = train_test_split(X, y, test_size=0.3, random_state=42)\n",
    "\n",
    "# Bắt đầu tính thời gian huấn luyện\n",
    "start_time_dt = time.time()\n",
    "\n",
    "# Xây dựng mô hình Decision Tree\n",
    "dt_model = DecisionTreeClassifier(random_state=42)\n",
    "dt_model.fit(X_train, y_train)\n",
    "\n",
    "# Dự đoán và tính toán các chỉ số đánh giá cho mô hình Decision Tree\n",
    "y_pred_dt = dt_model.predict(X_test)\n",
    "\n",
    "# Tính thời gian huấn luyện\n",
    "training_time_dt = time.time() - start_time_dt"
   ]
  },
  {
   "cell_type": "code",
   "execution_count": 10,
   "id": "09bb011b",
   "metadata": {},
   "outputs": [
    {
     "name": "stdout",
     "output_type": "stream",
     "text": [
      "[[347  75]\n",
      " [ 96 382]]\n"
     ]
    }
   ],
   "source": [
    "conf_matrix = confusion_matrix(y_test, y_pred_dt)\n",
    "print(conf_matrix)\n",
    "# Giải thích các giá trị trong ma trận nhầm lẫn\n",
    "TN, FP, FN, TP = conf_matrix.ravel()"
   ]
  },
  {
   "cell_type": "code",
   "execution_count": 5,
   "id": "28433182",
   "metadata": {},
   "outputs": [
    {
     "name": "stdout",
     "output_type": "stream",
     "text": [
      "Training Time (Decision Tree): 0.02 seconds\n",
      "              precision    recall  f1-score   support\n",
      "\n",
      "           0       0.78      0.82      0.80       422\n",
      "           1       0.84      0.80      0.82       478\n",
      "\n",
      "    accuracy                           0.81       900\n",
      "   macro avg       0.81      0.81      0.81       900\n",
      "weighted avg       0.81      0.81      0.81       900\n",
      "\n"
     ]
    }
   ],
   "source": [
    "print(f'Training Time (Decision Tree): {training_time_dt:.2f} seconds')\n",
    "classification_rep_dt = classification_report(y_test, y_pred_dt)\n",
    "print(classification_rep_dt)"
   ]
  },
  {
   "cell_type": "code",
   "execution_count": 6,
   "id": "7bc1aa99",
   "metadata": {},
   "outputs": [
    {
     "name": "stdout",
     "output_type": "stream",
     "text": [
      "Cohen's Kappa: 0.6196\n"
     ]
    }
   ],
   "source": [
    "from sklearn.metrics import cohen_kappa_score\n",
    "\n",
    "# Tính Cohen's Kappa\n",
    "kappa_value = cohen_kappa_score(y_test, y_pred_dt)\n",
    "\n",
    "print(f'Cohen\\'s Kappa: {kappa_value:.4f}')\n"
   ]
  }
 ],
 "metadata": {
  "kernelspec": {
   "display_name": "Python 3",
   "language": "python",
   "name": "python3"
  },
  "language_info": {
   "codemirror_mode": {
    "name": "ipython",
    "version": 3
   },
   "file_extension": ".py",
   "mimetype": "text/x-python",
   "name": "python",
   "nbconvert_exporter": "python",
   "pygments_lexer": "ipython3",
   "version": "3.10.11"
  }
 },
 "nbformat": 4,
 "nbformat_minor": 5
}
