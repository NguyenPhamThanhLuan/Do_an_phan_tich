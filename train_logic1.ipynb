{
 "cells": [
  {
   "cell_type": "code",
   "execution_count": 13,
   "id": "322d125b",
   "metadata": {},
   "outputs": [],
   "source": [
    "from sklearn.model_selection import train_test_split\n",
    "from sklearn.linear_model import LogisticRegression\n",
    "from sklearn.preprocessing import LabelEncoder\n",
    "import seaborn as sns\n",
    "import matplotlib.pyplot as plt\n",
    "from sklearn.metrics import accuracy_score, classification_report\n",
    "import numpy as np\n",
    "import pandas as pd\n",
    "import time\n",
    "from sklearn.metrics import confusion_matrix\n",
    "from sklearn.metrics import precision_score,recall_score, f1_score, roc_auc_score\n",
    "\n"
   ]
  },
  {
   "cell_type": "code",
   "execution_count": 14,
   "id": "a705fedd",
   "metadata": {},
   "outputs": [],
   "source": [
    "df = pd.read_excel('employ_clean.xlsx')"
   ]
  },
  {
   "cell_type": "code",
   "execution_count": null,
   "id": "618fcc07",
   "metadata": {},
   "outputs": [
    {
     "name": "stderr",
     "output_type": "stream",
     "text": [
      "C:\\Users\\luan0\\AppData\\Local\\Temp\\ipykernel_5276\\11375170.py:6: UserWarning: Could not infer format, so each element will be parsed individually, falling back to `dateutil`. To ensure parsing is consistent and as-expected, please specify a format.\n",
      "  df['ExitDate'] = pd.to_datetime(df['ExitDate'], errors='coerce')\n"
     ]
    }
   ],
   "source": [
    "\n",
    "# Bắt đầu tính thời gian\n",
    "start_time = time.time()\n",
    "\n",
    "df['StartDate'] = pd.to_datetime(df['StartDate'], errors='coerce')\n",
    "df['ExitDate'] = pd.to_datetime(df['ExitDate'], errors='coerce')\n",
    "\n",
    "# Tính số năm làm việc (Work Duration)\n",
    "df['WorkDuration'] = (df['ExitDate'].fillna(pd.to_datetime('today')) - df['StartDate']).dt.days / 365.25\n",
    "\n",
    "# Mã hóa các cột phân loại\n",
    "label_encoder = LabelEncoder()\n",
    "df['IsEmployeeLeft'] = label_encoder.fit_transform(df['IsEmployeeLeft'])\n",
    "df['GenderCode'] = label_encoder.fit_transform(df['GenderCode'])\n",
    "\n",
    "# One-Hot Encoding cho cột 'Performance Score'\n",
    "df = pd.get_dummies(df, columns=['Performance Score','JobFunctionDescription'], drop_first=True)\n",
    "\n",
    "# Chọn đặc trưng và mục tiêu\n",
    "X = df[['Age', 'GenderCode', 'WorkDuration', 'Current Employee Rating'] + [col for col in df.columns if 'Performance Score' in col or 'JobFunctionDescription' in col]]\n",
    "y = df['IsEmployeeLeft']\n",
    "start_time_rf = time.time()\n",
    "# Chia dữ liệu thành tập huấn luyện và tập kiểm tra\n",
    "X_train, X_test, y_train, y_test = train_test_split(X, y, test_size=0.3, random_state=42)\n",
    "\n",
    "# Xây dựng mô hình hồi quy logic\n",
    "model = LogisticRegression(max_iter=1000)\n",
    "model.fit(X_train, y_train)\n",
    "\n",
    "# Dự đoán và đánh giá mô hình\n",
    "y_pred = model.predict(X_test)\n",
    "\n",
    "training_time_rf = time.time() - start_time_rf\n",
    "\n",
    "# Hiển thị kết quả"
   ]
  },
  {
   "cell_type": "code",
   "execution_count": 16,
   "id": "a1ce8b6e",
   "metadata": {},
   "outputs": [
    {
     "name": "stdout",
     "output_type": "stream",
     "text": [
      "[[349  73]\n",
      " [ 70 408]]\n"
     ]
    }
   ],
   "source": [
    "conf_matrix = confusion_matrix(y_test, y_pred)\n",
    "print(conf_matrix)\n",
    "# Giải thích các giá trị trong ma trận nhầm lẫn\n",
    "TN, FP, FN, TP = conf_matrix.ravel()"
   ]
  },
  {
   "cell_type": "code",
   "execution_count": 17,
   "id": "6bc1d931",
   "metadata": {},
   "outputs": [
    {
     "name": "stdout",
     "output_type": "stream",
     "text": [
      "Training Time (Logistic Regression): 0.13 seconds\n",
      "              precision    recall  f1-score   support\n",
      "\n",
      "           0       0.83      0.83      0.83       422\n",
      "           1       0.85      0.85      0.85       478\n",
      "\n",
      "    accuracy                           0.84       900\n",
      "   macro avg       0.84      0.84      0.84       900\n",
      "weighted avg       0.84      0.84      0.84       900\n",
      "\n"
     ]
    }
   ],
   "source": [
    "# Hiển thị kết quả\n",
    "print(f'Training Time (Logistic Regression): {training_time_rf:.2f} seconds')\n",
    "# Kết quả chi tiết về mô hình (precision, recall, f1-score, support)\n",
    "classification_rep_dt = classification_report(y_test, y_pred)\n",
    "print(classification_rep_dt)"
   ]
  },
  {
   "cell_type": "code",
   "execution_count": 18,
   "id": "aa6b58f0",
   "metadata": {},
   "outputs": [
    {
     "name": "stdout",
     "output_type": "stream",
     "text": [
      "Cohen's Kappa: 0.6809\n"
     ]
    }
   ],
   "source": [
    "from sklearn.metrics import cohen_kappa_score\n",
    "\n",
    "# Tính Cohen's Kappa\n",
    "kappa_value = cohen_kappa_score(y_test, y_pred)\n",
    "\n",
    "print(f'Cohen\\'s Kappa: {kappa_value:.4f}')\n"
   ]
  }
 ],
 "metadata": {
  "kernelspec": {
   "display_name": "Python 3",
   "language": "python",
   "name": "python3"
  },
  "language_info": {
   "codemirror_mode": {
    "name": "ipython",
    "version": 3
   },
   "file_extension": ".py",
   "mimetype": "text/x-python",
   "name": "python",
   "nbconvert_exporter": "python",
   "pygments_lexer": "ipython3",
   "version": "3.10.11"
  }
 },
 "nbformat": 4,
 "nbformat_minor": 5
}
