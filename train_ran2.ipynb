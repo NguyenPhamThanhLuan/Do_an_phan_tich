{
 "cells": [
  {
   "cell_type": "code",
   "execution_count": 7,
   "id": "20d84697",
   "metadata": {},
   "outputs": [
    {
     "data": {
      "text/plain": [
       "<function sklearn.metrics._classification.confusion_matrix(y_true, y_pred, *, labels=None, sample_weight=None, normalize=None)>"
      ]
     },
     "execution_count": 7,
     "metadata": {},
     "output_type": "execute_result"
    }
   ],
   "source": [
    "import time  # Nhập khẩu thư viện time\n",
    "from sklearn.model_selection import train_test_split\n",
    "from sklearn.ensemble import RandomForestClassifier\n",
    "from sklearn.metrics import accuracy_score, classification_report,confusion_matrix\n",
    "from sklearn.preprocessing import LabelEncoder\n",
    "import pandas as pd\n",
    "import numpy as np\n",
    "import pandas as pd\n",
    "from sklearn.model_selection import train_test_split\n",
    "from sklearn.ensemble import RandomForestClassifier\n",
    "from sklearn.metrics import accuracy_score, classification_report, precision_score, recall_score, f1_score, roc_auc_score\n",
    "from sklearn.preprocessing import LabelEncoder\n",
    "import time\n",
    "confusion_matrix"
   ]
  },
  {
   "cell_type": "code",
   "execution_count": 8,
   "id": "3c6fd785",
   "metadata": {},
   "outputs": [],
   "source": [
    "df = pd.read_excel('employ_clean.xlsx')"
   ]
  },
  {
   "cell_type": "code",
   "execution_count": 9,
   "id": "81eecc9b",
   "metadata": {},
   "outputs": [
    {
     "name": "stderr",
     "output_type": "stream",
     "text": [
      "C:\\Users\\luan0\\AppData\\Local\\Temp\\ipykernel_3840\\3272357571.py:2: UserWarning: Could not infer format, so each element will be parsed individually, falling back to `dateutil`. To ensure parsing is consistent and as-expected, please specify a format.\n",
      "  df['ExitDate'] = pd.to_datetime(df['ExitDate'], errors='coerce')\n"
     ]
    }
   ],
   "source": [
    "\n",
    "df['StartDate'] = pd.to_datetime(df['StartDate'], errors='coerce')\n",
    "df['ExitDate'] = pd.to_datetime(df['ExitDate'], errors='coerce')\n",
    "\n",
    "# Tính số năm làm việc (Work Duration)\n",
    "df['WorkDuration'] = (df['ExitDate'].fillna(pd.to_datetime('today')) - df['StartDate']).dt.days / 365.25\n",
    "\n",
    "label_encoder = LabelEncoder()\n",
    "df['IsEmployeeLeft'] = label_encoder.fit_transform(df['IsEmployeeLeft'])\n",
    "df['GenderCode'] = label_encoder.fit_transform(df['GenderCode'])\n",
    "\n",
    "df = pd.get_dummies(df, columns=['Performance Score','JobFunctionDescription'], drop_first=True)\n",
    "\n",
    "X = df[['Age', 'GenderCode', 'WorkDuration', 'Current Employee Rating'] + [col for col in df.columns if 'Performance Score' in col or 'JobFunctionDescription' in col]]\n",
    "\n",
    "y = df['IsEmployeeLeft']\n",
    "\n",
    "X_train, X_test, y_train, y_test = train_test_split(X, y, test_size=0.3, random_state=42)\n",
    "\n",
    "start_time_rf = time.time()\n",
    "\n",
    "# Xây dựng mô hình Random Forest\n",
    "rf_model = RandomForestClassifier(random_state=42)\n",
    "rf_model.fit(X_train, y_train)\n",
    "\n",
    "# Dự đoán và đánh giá mô hình\n",
    "y_pred_rf = rf_model.predict(X_test)\n",
    "\n",
    "# Tính toán độ chính xác\n",
    "accuracy_rf = accuracy_score(y_test, y_pred_rf)\n",
    "\n",
    "# Tính thời gian huấn luyện\n",
    "training_time_rf = time.time() - start_time_rf\n"
   ]
  },
  {
   "cell_type": "code",
   "execution_count": 10,
   "id": "458d5a0e",
   "metadata": {},
   "outputs": [
    {
     "name": "stdout",
     "output_type": "stream",
     "text": [
      "[[376  46]\n",
      " [127 351]]\n"
     ]
    }
   ],
   "source": [
    "conf_matrix = confusion_matrix(y_test, y_pred_rf)\n",
    "print(conf_matrix)\n",
    "# Giải thích các giá trị trong ma trận nhầm lẫn\n",
    "TN, FP, FN, TP = conf_matrix.ravel()"
   ]
  },
  {
   "cell_type": "markdown",
   "id": "cc8cf0c1",
   "metadata": {},
   "source": [
    "TP số rời đi là 1 và họ rời đi 354\n",
    "TN dự đoán cho ở lại và họ đã ở lại 371\n",
    "FN dụ đoán ở lại nhưng rời đi 124\n",
    "FP dự đoán rời đi nhưng họ ơ lại 51"
   ]
  },
  {
   "cell_type": "code",
   "execution_count": 11,
   "id": "144addad",
   "metadata": {},
   "outputs": [
    {
     "name": "stdout",
     "output_type": "stream",
     "text": [
      "Training Time (Random Forest): 0.32 seconds\n",
      "              precision    recall  f1-score   support\n",
      "\n",
      "           0       0.75      0.89      0.81       422\n",
      "           1       0.88      0.73      0.80       478\n",
      "\n",
      "    accuracy                           0.81       900\n",
      "   macro avg       0.82      0.81      0.81       900\n",
      "weighted avg       0.82      0.81      0.81       900\n",
      "\n"
     ]
    }
   ],
   "source": [
    "\n",
    "training_time_rf = time.time() - start_time_rf\n",
    "# Hiển thị kết quả\n",
    "print(f'Training Time (Random Forest): {training_time_rf:.2f} seconds')\n",
    "classification_rep_dt = classification_report(y_test, y_pred_rf)\n",
    "print(classification_rep_dt)\n",
    "# Kết quả chi tiết về mô hình (precision, recall, f1-score, support)"
   ]
  },
  {
   "cell_type": "code",
   "execution_count": 12,
   "id": "fff90d57",
   "metadata": {},
   "outputs": [
    {
     "name": "stdout",
     "output_type": "stream",
     "text": [
      "Cohen's Kappa: 0.6184\n"
     ]
    }
   ],
   "source": [
    "from sklearn.metrics import cohen_kappa_score\n",
    "# Tính Cohen's Kappa\n",
    "kappa_value = cohen_kappa_score(y_test, y_pred_rf)\n",
    "print(f'Cohen\\'s Kappa: {kappa_value:.4f}')"
   ]
  }
 ],
 "metadata": {
  "kernelspec": {
   "display_name": "Python 3",
   "language": "python",
   "name": "python3"
  },
  "language_info": {
   "codemirror_mode": {
    "name": "ipython",
    "version": 3
   },
   "file_extension": ".py",
   "mimetype": "text/x-python",
   "name": "python",
   "nbconvert_exporter": "python",
   "pygments_lexer": "ipython3",
   "version": "3.10.11"
  }
 },
 "nbformat": 4,
 "nbformat_minor": 5
}
