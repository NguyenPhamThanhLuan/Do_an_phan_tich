{
 "cells": [
  {
   "cell_type": "code",
   "execution_count": 1,
   "id": "030fc835",
   "metadata": {},
   "outputs": [
    {
     "name": "stdout",
     "output_type": "stream",
     "text": [
      "Dữ liệu đã được lưu vào cơ sở dữ liệu MySQL.\n"
     ]
    }
   ],
   "source": [
    "import pandas as pd\n",
    "from sqlalchemy import create_engine\n",
    "\n",
    "# Đọc dữ liệu từ file Excel\n",
    "file_path = 'employ_clean.xlsx'  \n",
    "df = pd.read_excel(file_path)\n",
    "\n",
    "# Tạo chuỗi kết nối MySQL\n",
    "username = 'root' \n",
    "password = ''  \n",
    "host = 'localhost' \n",
    "port = '3306'  \n",
    "database = 'hrdata'  \n",
    "# Tạo engine kết nối tới MySQL\n",
    "engine = create_engine(f'mysql+mysqlconnector://{username}:{password}@{host}:{port}/{database}')\n",
    "\n",
    "# Lưu dữ liệu vào MySQL, tạo bảng 'employee_data' nếu chưa có\n",
    "df.to_sql('employee_data', con=engine, if_exists='replace', index=False)\n",
    "\n",
    "print(\"Dữ liệu đã được lưu vào cơ sở dữ liệu MySQL.\")\n"
   ]
  }
 ],
 "metadata": {
  "kernelspec": {
   "display_name": "Python 3",
   "language": "python",
   "name": "python3"
  },
  "language_info": {
   "codemirror_mode": {
    "name": "ipython",
    "version": 3
   },
   "file_extension": ".py",
   "mimetype": "text/x-python",
   "name": "python",
   "nbconvert_exporter": "python",
   "pygments_lexer": "ipython3",
   "version": "3.10.11"
  }
 },
 "nbformat": 4,
 "nbformat_minor": 5
}
